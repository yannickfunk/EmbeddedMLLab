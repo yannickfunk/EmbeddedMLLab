{
 "cells": [
  {
   "cell_type": "markdown",
   "metadata": {
    "id": "view-in-github",
    "colab_type": "text"
   },
   "source": [
    "<a href=\"https://colab.research.google.com/github/yannickfunk/EmbeddedMLLab/blob/main/end2end.ipynb\" target=\"_parent\"><img src=\"https://colab.research.google.com/assets/colab-badge.svg\" alt=\"Open In Colab\"/></a>"
   ]
  },
  {
   "cell_type": "code",
   "execution_count": 1,
   "outputs": [],
   "source": [
    "import sys\n",
    "\n",
    "\n",
    "# if in colab, make colab setup\n",
    "if 'google.colab' in sys.modules:\n",
    "    FILENAME = \"end2end.ipynb\"\n",
    "    BRANCH = \"main\"\n",
    "    !git clone -b $BRANCH https://github.com/yannickfunk/EmbeddedMLLab tmp\n",
    "    !rm tmp/$FILENAME\n",
    "    !mv tmp/* .\n",
    "    !rm -rf tmp\n",
    "    !rm -rf sample_data\n",
    "    !pip install -r requirements.txt"
   ],
   "metadata": {
    "collapsed": false
   }
  },
  {
   "cell_type": "code",
   "execution_count": 3,
   "outputs": [
    {
     "name": "stdout",
     "output_type": "stream",
     "text": [
      "Using downloaded and verified file: data/VOCtrainval_11-May-2012.tar\n",
      "Extracting data/VOCtrainval_11-May-2012.tar to data/\n",
      "Using downloaded and verified file: data/VOCtrainval_11-May-2012.tar\n",
      "Extracting data/VOCtrainval_11-May-2012.tar to data/\n"
     ]
    },
    {
     "name": "stderr",
     "output_type": "stream",
     "text": [
      "GPU available: True (cuda), used: True\n",
      "TPU available: False, using: 0 TPU cores\n",
      "IPU available: False, using: 0 IPUs\n",
      "HPU available: False, using: 0 HPUs\n",
      "LOCAL_RANK: 0 - CUDA_VISIBLE_DEVICES: [0]\n",
      "\n",
      "   | Name  | Type            | Params\n",
      "-------------------------------------------\n",
      "0  | loss  | YoloLoss        | 0     \n",
      "1  | pad   | ReflectionPad2d | 0     \n",
      "2  | conv1 | Conv2d          | 432   \n",
      "3  | bn1   | BatchNorm2d     | 32    \n",
      "4  | conv2 | Conv2d          | 4.6 K \n",
      "5  | bn2   | BatchNorm2d     | 64    \n",
      "6  | conv3 | Conv2d          | 18.4 K\n",
      "7  | bn3   | BatchNorm2d     | 128   \n",
      "8  | conv4 | Conv2d          | 73.7 K\n",
      "9  | bn4   | BatchNorm2d     | 256   \n",
      "10 | conv5 | Conv2d          | 294 K \n",
      "11 | bn5   | BatchNorm2d     | 512   \n",
      "12 | conv6 | Conv2d          | 1.2 M \n",
      "13 | bn6   | BatchNorm2d     | 1.0 K \n",
      "14 | conv7 | Conv2d          | 4.7 M \n",
      "15 | bn7   | BatchNorm2d     | 2.0 K \n",
      "16 | conv8 | Conv2d          | 9.4 M \n",
      "17 | bn8   | BatchNorm2d     | 2.0 K \n",
      "18 | conv9 | Conv2d          | 30.8 K\n",
      "-------------------------------------------\n",
      "9.5 M     Trainable params\n",
      "6.3 M     Non-trainable params\n",
      "15.8 M    Total params\n",
      "63.058    Total estimated model params size (MB)\n"
     ]
    },
    {
     "data": {
      "text/plain": "Sanity Checking: 0it [00:00, ?it/s]",
      "application/vnd.jupyter.widget-view+json": {
       "version_major": 2,
       "version_minor": 0,
       "model_id": "b5e9d97960cc4f1ab2de7b8d89367e59"
      }
     },
     "metadata": {},
     "output_type": "display_data"
    },
    {
     "data": {
      "text/plain": "Training: 0it [00:00, ?it/s]",
      "application/vnd.jupyter.widget-view+json": {
       "version_major": 2,
       "version_minor": 0,
       "model_id": "58a2b08394444a06ac87118873c80ef9"
      }
     },
     "metadata": {},
     "output_type": "display_data"
    },
    {
     "data": {
      "text/plain": "Validation: 0it [00:00, ?it/s]",
      "application/vnd.jupyter.widget-view+json": {
       "version_major": 2,
       "version_minor": 0,
       "model_id": "2ab2b5be49f74659be4242f0cef2f718"
      }
     },
     "metadata": {},
     "output_type": "display_data"
    },
    {
     "data": {
      "text/plain": "Validation: 0it [00:00, ?it/s]",
      "application/vnd.jupyter.widget-view+json": {
       "version_major": 2,
       "version_minor": 0,
       "model_id": "853b575a951845518cfc5a000ee10395"
      }
     },
     "metadata": {},
     "output_type": "display_data"
    },
    {
     "name": "stderr",
     "output_type": "stream",
     "text": [
      "Exception ignored in: <function _MultiProcessingDataLoaderIter.__del__ at 0x7f9588bbfa30>\n",
      "Traceback (most recent call last):\n",
      "  File \"/home/yfunk/anaconda3/envs/embedded-ml/lib/python3.10/site-packages/torch/utils/data/dataloader.py\", line 1466, in __del__\n",
      "Exception ignored in: <function _MultiProcessingDataLoaderIter.__del__ at 0x7f9588bbfa30>    \n",
      "self._shutdown_workers()Traceback (most recent call last):\n",
      "\n",
      "Exception ignored in:   File \"/home/yfunk/anaconda3/envs/embedded-ml/lib/python3.10/site-packages/torch/utils/data/dataloader.py\", line 1466, in __del__\n",
      "  File \"/home/yfunk/anaconda3/envs/embedded-ml/lib/python3.10/site-packages/torch/utils/data/dataloader.py\", line 1449, in _shutdown_workers\n",
      "<function _MultiProcessingDataLoaderIter.__del__ at 0x7f9588bbfa30>    \n",
      "    if w.is_alive():self._shutdown_workers()Traceback (most recent call last):\n",
      "\n",
      "\n",
      "  File \"/home/yfunk/anaconda3/envs/embedded-ml/lib/python3.10/site-packages/torch/utils/data/dataloader.py\", line 1466, in __del__\n",
      "  File \"/home/yfunk/anaconda3/envs/embedded-ml/lib/python3.10/multiprocessing/process.py\", line 160, in is_alive\n",
      "  File \"/home/yfunk/anaconda3/envs/embedded-ml/lib/python3.10/site-packages/torch/utils/data/dataloader.py\", line 1449, in _shutdown_workers\n",
      "        self._shutdown_workers()if w.is_alive():    \n",
      "\n",
      "assert self._parent_pid == os.getpid(), 'can only test a child process'  File \"/home/yfunk/anaconda3/envs/embedded-ml/lib/python3.10/site-packages/torch/utils/data/dataloader.py\", line 1449, in _shutdown_workers\n",
      "\n",
      "  File \"/home/yfunk/anaconda3/envs/embedded-ml/lib/python3.10/multiprocessing/process.py\", line 160, in is_alive\n",
      "    AssertionError    if w.is_alive():: assert self._parent_pid == os.getpid(), 'can only test a child process'\n",
      "can only test a child process\n",
      "  File \"/home/yfunk/anaconda3/envs/embedded-ml/lib/python3.10/multiprocessing/process.py\", line 160, in is_alive\n",
      "\n",
      "    AssertionErrorassert self._parent_pid == os.getpid(), 'can only test a child process': \n",
      "can only test a child processAssertionError\n",
      ": can only test a child process\n",
      "Exception ignored in: <function _MultiProcessingDataLoaderIter.__del__ at 0x7f9588bbfa30>\n",
      "Exception ignored in: Traceback (most recent call last):\n",
      "<function _MultiProcessingDataLoaderIter.__del__ at 0x7f9588bbfa30>  File \"/home/yfunk/anaconda3/envs/embedded-ml/lib/python3.10/site-packages/torch/utils/data/dataloader.py\", line 1466, in __del__\n",
      "\n",
      "Traceback (most recent call last):\n",
      "      File \"/home/yfunk/anaconda3/envs/embedded-ml/lib/python3.10/site-packages/torch/utils/data/dataloader.py\", line 1466, in __del__\n",
      "self._shutdown_workers()Exception ignored in:     \n",
      "<function _MultiProcessingDataLoaderIter.__del__ at 0x7f9588bbfa30>  File \"/home/yfunk/anaconda3/envs/embedded-ml/lib/python3.10/site-packages/torch/utils/data/dataloader.py\", line 1449, in _shutdown_workers\n",
      "self._shutdown_workers()\n",
      "    Traceback (most recent call last):\n",
      "\n",
      "if w.is_alive():  File \"/home/yfunk/anaconda3/envs/embedded-ml/lib/python3.10/site-packages/torch/utils/data/dataloader.py\", line 1466, in __del__\n",
      "\n",
      "  File \"/home/yfunk/anaconda3/envs/embedded-ml/lib/python3.10/site-packages/torch/utils/data/dataloader.py\", line 1449, in _shutdown_workers\n",
      "      File \"/home/yfunk/anaconda3/envs/embedded-ml/lib/python3.10/multiprocessing/process.py\", line 160, in is_alive\n",
      "self._shutdown_workers()        \n",
      "if w.is_alive():  File \"/home/yfunk/anaconda3/envs/embedded-ml/lib/python3.10/site-packages/torch/utils/data/dataloader.py\", line 1449, in _shutdown_workers\n",
      "\n",
      "      File \"/home/yfunk/anaconda3/envs/embedded-ml/lib/python3.10/multiprocessing/process.py\", line 160, in is_alive\n",
      "if w.is_alive():    \n",
      "assert self._parent_pid == os.getpid(), 'can only test a child process'  File \"/home/yfunk/anaconda3/envs/embedded-ml/lib/python3.10/multiprocessing/process.py\", line 160, in is_alive\n",
      "assert self._parent_pid == os.getpid(), 'can only test a child process'\n",
      "    \n",
      "assert self._parent_pid == os.getpid(), 'can only test a child process'AssertionError: AssertionError\n",
      ": can only test a child processAssertionErrorcan only test a child process\n",
      ": \n",
      "Exception ignored in: can only test a child process\n",
      "<function _MultiProcessingDataLoaderIter.__del__ at 0x7f9588bbfa30>\n",
      "Traceback (most recent call last):\n",
      "  File \"/home/yfunk/anaconda3/envs/embedded-ml/lib/python3.10/site-packages/torch/utils/data/dataloader.py\", line 1466, in __del__\n",
      "    self._shutdown_workers()\n",
      "  File \"/home/yfunk/anaconda3/envs/embedded-ml/lib/python3.10/site-packages/torch/utils/data/dataloader.py\", line 1449, in _shutdown_workers\n",
      "    if w.is_alive():\n",
      "  File \"/home/yfunk/anaconda3/envs/embedded-ml/lib/python3.10/multiprocessing/process.py\", line 160, in is_alive\n",
      "    assert self._parent_pid == os.getpid(), 'can only test a child process'\n",
      "AssertionError: can only test a child process\n",
      "Exception ignored in: <function _MultiProcessingDataLoaderIter.__del__ at 0x7f9588bbfa30>\n",
      "Traceback (most recent call last):\n",
      "  File \"/home/yfunk/anaconda3/envs/embedded-ml/lib/python3.10/site-packages/torch/utils/data/dataloader.py\", line 1466, in __del__\n",
      "    self._shutdown_workers()\n",
      "  File \"/home/yfunk/anaconda3/envs/embedded-ml/lib/python3.10/site-packages/torch/utils/data/dataloader.py\", line 1449, in _shutdown_workers\n",
      "    if w.is_alive():\n",
      "  File \"/home/yfunk/anaconda3/envs/embedded-ml/lib/python3.10/multiprocessing/process.py\", line 160, in is_alive\n",
      "    assert self._parent_pid == os.getpid(), 'can only test a child process'\n",
      "AssertionError: can only test a child process\n",
      "Exception ignored in: \n",
      "<function _MultiProcessingDataLoaderIter.__del__ at 0x7f9588bbfa30>Traceback (most recent call last):\n",
      "  File \"/home/yfunk/anaconda3/envs/embedded-ml/lib/python3.10/site-packages/torch/utils/data/dataloader.py\", line 1466, in __del__\n",
      "    self._shutdown_workers()\n",
      "  File \"/home/yfunk/anaconda3/envs/embedded-ml/lib/python3.10/site-packages/torch/utils/data/dataloader.py\", line 1449, in _shutdown_workers\n",
      "    if w.is_alive():\n",
      "  File \"/home/yfunk/anaconda3/envs/embedded-ml/lib/python3.10/multiprocessing/process.py\", line 160, in is_alive\n",
      "    assert self._parent_pid == os.getpid(), 'can only test a child process'\n",
      "AssertionError: can only test a child process\n",
      "Exception ignored in: <function _MultiProcessingDataLoaderIter.__del__ at 0x7f9588bbfa30>\n",
      "Traceback (most recent call last):\n",
      "  File \"/home/yfunk/anaconda3/envs/embedded-ml/lib/python3.10/site-packages/torch/utils/data/dataloader.py\", line 1466, in __del__\n",
      "    self._shutdown_workers()\n",
      "  File \"/home/yfunk/anaconda3/envs/embedded-ml/lib/python3.10/site-packages/torch/utils/data/dataloader.py\", line 1449, in _shutdown_workers\n",
      "    if w.is_alive():\n",
      "  File \"/home/yfunk/anaconda3/envs/embedded-ml/lib/python3.10/multiprocessing/process.py\", line 160, in is_alive\n",
      "    assert self._parent_pid == os.getpid(), 'can only test a child process'\n",
      "AssertionError: can only test a child process\n",
      "Exception ignored in: <function _MultiProcessingDataLoaderIter.__del__ at 0x7f9588bbfa30>\n",
      "Traceback (most recent call last):\n",
      "  File \"/home/yfunk/anaconda3/envs/embedded-ml/lib/python3.10/site-packages/torch/utils/data/dataloader.py\", line 1466, in __del__\n",
      "    self._shutdown_workers()\n",
      "  File \"/home/yfunk/anaconda3/envs/embedded-ml/lib/python3.10/site-packages/torch/utils/data/dataloader.py\", line 1449, in _shutdown_workers\n",
      "    if w.is_alive():\n",
      "  File \"/home/yfunk/anaconda3/envs/embedded-ml/lib/python3.10/multiprocessing/process.py\", line 160, in is_alive\n",
      "    assert self._parent_pid == os.getpid(), 'can only test a child process'\n",
      "AssertionError: can only test a child process\n",
      "Exception ignored in: <function _MultiProcessingDataLoaderIter.__del__ at 0x7f9588bbfa30>\n",
      "Traceback (most recent call last):\n",
      "  File \"/home/yfunk/anaconda3/envs/embedded-ml/lib/python3.10/site-packages/torch/utils/data/dataloader.py\", line 1466, in __del__\n",
      "    self._shutdown_workers()\n",
      "  File \"/home/yfunk/anaconda3/envs/embedded-ml/lib/python3.10/site-packages/torch/utils/data/dataloader.py\", line 1449, in _shutdown_workers\n",
      "    if w.is_alive():\n",
      "  File \"/home/yfunk/anaconda3/envs/embedded-ml/lib/python3.10/multiprocessing/process.py\", line 160, in is_alive\n",
      "    assert self._parent_pid == os.getpid(), 'can only test a child process'\n",
      "AssertionError: can only test a child process\n",
      "/home/yfunk/anaconda3/envs/embedded-ml/lib/python3.10/site-packages/pytorch_lightning/trainer/call.py:48: UserWarning: Detected KeyboardInterrupt, attempting graceful shutdown...\n",
      "  rank_zero_warn(\"Detected KeyboardInterrupt, attempting graceful shutdown...\")\n"
     ]
    }
   ],
   "source": [
    "from models.tinyyolov2 import TinyYoloV2Original\n",
    "from utils.dataloader import VOCDataLoaderPerson\n",
    "import pytorch_lightning as pl\n",
    "\n",
    "train_loader = VOCDataLoaderPerson(train=True, batch_size=128, shuffle=True)\n",
    "val_loader = VOCDataLoaderPerson(train=False, batch_size=1)\n",
    "\n",
    "model = TinyYoloV2Original(num_classes=1)\n",
    "model.load_pt_from_disk(\"data/voc_pretrained.pt\")\n",
    "trainer = pl.Trainer(max_epochs=15, accelerator='gpu', log_every_n_steps=10, limit_val_batches=350)\n",
    "\n",
    "trainer.fit(model, train_dataloaders=train_loader, val_dataloaders=val_loader)"
   ],
   "metadata": {
    "collapsed": false
   }
  },
  {
   "cell_type": "code",
   "execution_count": 2,
   "outputs": [],
   "source": [],
   "metadata": {
    "collapsed": false
   }
  }
 ],
 "metadata": {
  "kernelspec": {
   "display_name": "Python 3",
   "language": "python",
   "name": "python3"
  },
  "language_info": {
   "codemirror_mode": {
    "name": "ipython",
    "version": 2
   },
   "file_extension": ".py",
   "mimetype": "text/x-python",
   "name": "python",
   "nbconvert_exporter": "python",
   "pygments_lexer": "ipython2",
   "version": "2.7.6"
  },
  "colab": {
   "provenance": [],
   "include_colab_link": true
  }
 },
 "nbformat": 4,
 "nbformat_minor": 0
}
