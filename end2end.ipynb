{
  "cells": [
    {
      "cell_type": "markdown",
      "metadata": {
        "id": "view-in-github",
        "colab_type": "text"
      },
      "source": [
        "<a href=\"https://colab.research.google.com/github/yannickfunk/EmbeddedMLLab/blob/main/end2end.ipynb\" target=\"_parent\"><img src=\"https://colab.research.google.com/assets/colab-badge.svg\" alt=\"Open In Colab\"/></a>"
      ]
    },
    {
      "cell_type": "code",
      "execution_count": 1,
      "outputs": [
        {
          "output_type": "stream",
          "name": "stdout",
          "text": [
            "Mounted at /content/drive\n",
            "Cloning into 'tmp'...\n",
            "remote: Enumerating objects: 60, done.\u001b[K\n",
            "remote: Counting objects: 100% (26/26), done.\u001b[K\n",
            "remote: Compressing objects: 100% (19/19), done.\u001b[K\n",
            "remote: Total 60 (delta 7), reused 18 (delta 5), pack-reused 34\u001b[K\n",
            "Unpacking objects: 100% (60/60), done.\n",
            "Looking in indexes: https://pypi.org/simple, https://us-python.pkg.dev/colab-wheels/public/simple/\n",
            "Collecting lightning==1.8.6\n",
            "  Downloading lightning-1.8.6-py3-none-any.whl (1.8 MB)\n",
            "\u001b[K     |████████████████████████████████| 1.8 MB 6.7 MB/s \n",
            "\u001b[?25hRequirement already satisfied: torchvision==0.14.0 in /usr/local/lib/python3.8/dist-packages (from -r requirements.txt (line 2)) (0.14.0+cu116)\n",
            "Requirement already satisfied: fsspec[http]>2021.06.0 in /usr/local/lib/python3.8/dist-packages (from lightning==1.8.6->-r requirements.txt (line 1)) (2022.11.0)\n",
            "Collecting tensorboardX>=2.2\n",
            "  Downloading tensorboardX-2.5.1-py2.py3-none-any.whl (125 kB)\n",
            "\u001b[K     |████████████████████████████████| 125 kB 20.4 MB/s \n",
            "\u001b[?25hRequirement already satisfied: traitlets>=5.3.0 in /usr/local/lib/python3.8/dist-packages (from lightning==1.8.6->-r requirements.txt (line 1)) (5.7.1)\n",
            "Collecting torchmetrics>=0.7.0\n",
            "  Downloading torchmetrics-0.11.0-py3-none-any.whl (512 kB)\n",
            "\u001b[K     |████████████████████████████████| 512 kB 17.2 MB/s \n",
            "\u001b[?25hCollecting lightning-utilities!=0.4.0,>=0.3.0\n",
            "  Downloading lightning_utilities-0.5.0-py3-none-any.whl (18 kB)\n",
            "Requirement already satisfied: torch>=1.9.0 in /usr/local/lib/python3.8/dist-packages (from lightning==1.8.6->-r requirements.txt (line 1)) (1.13.0+cu116)\n",
            "Requirement already satisfied: tqdm>=4.57.0 in /usr/local/lib/python3.8/dist-packages (from lightning==1.8.6->-r requirements.txt (line 1)) (4.64.1)\n",
            "Requirement already satisfied: typing-extensions>=4.0.0 in /usr/local/lib/python3.8/dist-packages (from lightning==1.8.6->-r requirements.txt (line 1)) (4.4.0)\n",
            "Collecting arrow>=1.2.0\n",
            "  Downloading arrow-1.2.3-py3-none-any.whl (66 kB)\n",
            "\u001b[K     |████████████████████████████████| 66 kB 5.4 MB/s \n",
            "\u001b[?25hCollecting inquirer>=2.10.0\n",
            "  Downloading inquirer-3.1.1-py3-none-any.whl (17 kB)\n",
            "Collecting beautifulsoup4>=4.8.0\n",
            "  Downloading beautifulsoup4-4.11.1-py3-none-any.whl (128 kB)\n",
            "\u001b[K     |████████████████████████████████| 128 kB 10.8 MB/s \n",
            "\u001b[?25hRequirement already satisfied: psutil in /usr/local/lib/python3.8/dist-packages (from lightning==1.8.6->-r requirements.txt (line 1)) (5.4.8)\n",
            "Collecting croniter<1.4.0,>=1.3.0\n",
            "  Downloading croniter-1.3.8-py2.py3-none-any.whl (18 kB)\n",
            "Requirement already satisfied: packaging>=17.0 in /usr/local/lib/python3.8/dist-packages (from lightning==1.8.6->-r requirements.txt (line 1)) (21.3)\n",
            "Requirement already satisfied: PyYAML>=5.4 in /usr/local/lib/python3.8/dist-packages (from lightning==1.8.6->-r requirements.txt (line 1)) (6.0)\n",
            "Collecting deepdiff>=5.7.0\n",
            "  Downloading deepdiff-6.2.2-py3-none-any.whl (72 kB)\n",
            "\u001b[K     |████████████████████████████████| 72 kB 1.4 MB/s \n",
            "\u001b[?25hRequirement already satisfied: aiohttp>=3.8.0 in /usr/local/lib/python3.8/dist-packages (from lightning==1.8.6->-r requirements.txt (line 1)) (3.8.3)\n",
            "Collecting starsessions<2.0,>=1.2.1\n",
            "  Downloading starsessions-1.3.0-py3-none-any.whl (10 kB)\n",
            "Requirement already satisfied: click in /usr/local/lib/python3.8/dist-packages (from lightning==1.8.6->-r requirements.txt (line 1)) (7.1.2)\n",
            "Collecting lightning-cloud>=0.5.12\n",
            "  Downloading lightning_cloud-0.5.15-py3-none-any.whl (373 kB)\n",
            "\u001b[K     |████████████████████████████████| 373 kB 18.5 MB/s \n",
            "\u001b[?25hRequirement already satisfied: numpy>=1.17.2 in /usr/local/lib/python3.8/dist-packages (from lightning==1.8.6->-r requirements.txt (line 1)) (1.21.6)\n",
            "Requirement already satisfied: requests in /usr/local/lib/python3.8/dist-packages (from torchvision==0.14.0->-r requirements.txt (line 2)) (2.23.0)\n",
            "Requirement already satisfied: pillow!=8.3.*,>=5.3.0 in /usr/local/lib/python3.8/dist-packages (from torchvision==0.14.0->-r requirements.txt (line 2)) (7.1.2)\n",
            "Requirement already satisfied: charset-normalizer<3.0,>=2.0 in /usr/local/lib/python3.8/dist-packages (from aiohttp>=3.8.0->lightning==1.8.6->-r requirements.txt (line 1)) (2.1.1)\n",
            "Requirement already satisfied: multidict<7.0,>=4.5 in /usr/local/lib/python3.8/dist-packages (from aiohttp>=3.8.0->lightning==1.8.6->-r requirements.txt (line 1)) (6.0.3)\n",
            "Requirement already satisfied: aiosignal>=1.1.2 in /usr/local/lib/python3.8/dist-packages (from aiohttp>=3.8.0->lightning==1.8.6->-r requirements.txt (line 1)) (1.3.1)\n",
            "Requirement already satisfied: async-timeout<5.0,>=4.0.0a3 in /usr/local/lib/python3.8/dist-packages (from aiohttp>=3.8.0->lightning==1.8.6->-r requirements.txt (line 1)) (4.0.2)\n",
            "Requirement already satisfied: attrs>=17.3.0 in /usr/local/lib/python3.8/dist-packages (from aiohttp>=3.8.0->lightning==1.8.6->-r requirements.txt (line 1)) (22.1.0)\n",
            "Requirement already satisfied: yarl<2.0,>=1.0 in /usr/local/lib/python3.8/dist-packages (from aiohttp>=3.8.0->lightning==1.8.6->-r requirements.txt (line 1)) (1.8.2)\n",
            "Requirement already satisfied: frozenlist>=1.1.1 in /usr/local/lib/python3.8/dist-packages (from aiohttp>=3.8.0->lightning==1.8.6->-r requirements.txt (line 1)) (1.3.3)\n",
            "Requirement already satisfied: python-dateutil>=2.7.0 in /usr/local/lib/python3.8/dist-packages (from arrow>=1.2.0->lightning==1.8.6->-r requirements.txt (line 1)) (2.8.2)\n",
            "Collecting soupsieve>1.2\n",
            "  Downloading soupsieve-2.3.2.post1-py3-none-any.whl (37 kB)\n",
            "Collecting ordered-set<4.2.0,>=4.0.2\n",
            "  Downloading ordered_set-4.1.0-py3-none-any.whl (7.6 kB)\n",
            "Collecting readchar>=3.0.6\n",
            "  Downloading readchar-4.0.3-py3-none-any.whl (8.4 kB)\n",
            "Collecting python-editor>=1.0.4\n",
            "  Downloading python_editor-1.0.4-py3-none-any.whl (4.9 kB)\n",
            "Collecting blessed>=1.19.0\n",
            "  Downloading blessed-1.19.1-py2.py3-none-any.whl (58 kB)\n",
            "\u001b[K     |████████████████████████████████| 58 kB 7.5 MB/s \n",
            "\u001b[?25hRequirement already satisfied: wcwidth>=0.1.4 in /usr/local/lib/python3.8/dist-packages (from blessed>=1.19.0->inquirer>=2.10.0->lightning==1.8.6->-r requirements.txt (line 1)) (0.2.5)\n",
            "Requirement already satisfied: six>=1.9.0 in /usr/local/lib/python3.8/dist-packages (from blessed>=1.19.0->inquirer>=2.10.0->lightning==1.8.6->-r requirements.txt (line 1)) (1.15.0)\n",
            "Requirement already satisfied: urllib3 in /usr/local/lib/python3.8/dist-packages (from lightning-cloud>=0.5.12->lightning==1.8.6->-r requirements.txt (line 1)) (1.24.3)\n",
            "Collecting pyjwt\n",
            "  Downloading PyJWT-2.6.0-py3-none-any.whl (20 kB)\n",
            "Collecting fastapi[all]\n",
            "  Downloading fastapi-0.88.0-py3-none-any.whl (55 kB)\n",
            "\u001b[K     |████████████████████████████████| 55 kB 4.7 MB/s \n",
            "\u001b[?25hCollecting rich\n",
            "  Downloading rich-12.6.0-py3-none-any.whl (237 kB)\n",
            "\u001b[K     |████████████████████████████████| 237 kB 2.4 MB/s \n",
            "\u001b[?25hCollecting websocket-client\n",
            "  Downloading websocket_client-1.4.2-py3-none-any.whl (55 kB)\n",
            "\u001b[K     |████████████████████████████████| 55 kB 1.7 MB/s \n",
            "\u001b[?25hRequirement already satisfied: pyparsing!=3.0.5,>=2.0.2 in /usr/local/lib/python3.8/dist-packages (from packaging>=17.0->lightning==1.8.6->-r requirements.txt (line 1)) (3.0.9)\n",
            "Requirement already satisfied: setuptools>=41.0 in /usr/local/lib/python3.8/dist-packages (from readchar>=3.0.6->inquirer>=2.10.0->lightning==1.8.6->-r requirements.txt (line 1)) (57.4.0)\n",
            "Collecting starlette<1,>=0\n",
            "  Downloading starlette-0.23.1-py3-none-any.whl (64 kB)\n",
            "\u001b[K     |████████████████████████████████| 64 kB 1.5 MB/s \n",
            "\u001b[?25hCollecting itsdangerous<3.0.0,>=2.0.1\n",
            "  Downloading itsdangerous-2.1.2-py3-none-any.whl (15 kB)\n",
            "Collecting anyio<5,>=3.4.0\n",
            "  Downloading anyio-3.6.2-py3-none-any.whl (80 kB)\n",
            "\u001b[K     |████████████████████████████████| 80 kB 844 kB/s \n",
            "\u001b[?25hRequirement already satisfied: idna>=2.8 in /usr/local/lib/python3.8/dist-packages (from anyio<5,>=3.4.0->starlette<1,>=0->starsessions<2.0,>=1.2.1->lightning==1.8.6->-r requirements.txt (line 1)) (2.10)\n",
            "Collecting sniffio>=1.1\n",
            "  Downloading sniffio-1.3.0-py3-none-any.whl (10 kB)\n",
            "Requirement already satisfied: protobuf<=3.20.1,>=3.8.0 in /usr/local/lib/python3.8/dist-packages (from tensorboardX>=2.2->lightning==1.8.6->-r requirements.txt (line 1)) (3.19.6)\n",
            "Collecting starlette<1,>=0\n",
            "  Downloading starlette-0.22.0-py3-none-any.whl (64 kB)\n",
            "\u001b[K     |████████████████████████████████| 64 kB 914 kB/s \n",
            "\u001b[?25hRequirement already satisfied: pydantic!=1.7,!=1.7.1,!=1.7.2,!=1.7.3,!=1.8,!=1.8.1,<2.0.0,>=1.6.2 in /usr/local/lib/python3.8/dist-packages (from fastapi[all]->lightning-cloud>=0.5.12->lightning==1.8.6->-r requirements.txt (line 1)) (1.10.2)\n",
            "Requirement already satisfied: jinja2>=2.11.2 in /usr/local/lib/python3.8/dist-packages (from fastapi[all]->lightning-cloud>=0.5.12->lightning==1.8.6->-r requirements.txt (line 1)) (2.11.3)\n",
            "Collecting orjson>=3.2.1\n",
            "  Downloading orjson-3.8.3-cp38-cp38-manylinux_2_17_x86_64.manylinux2014_x86_64.whl (278 kB)\n",
            "\u001b[K     |████████████████████████████████| 278 kB 878 kB/s \n",
            "\u001b[?25hCollecting python-multipart>=0.0.5\n",
            "  Downloading python-multipart-0.0.5.tar.gz (32 kB)\n",
            "Collecting ujson!=4.0.2,!=4.1.0,!=4.2.0,!=4.3.0,!=5.0.0,!=5.1.0,>=4.0.1\n",
            "  Downloading ujson-5.6.0-cp38-cp38-manylinux_2_17_x86_64.manylinux2014_x86_64.whl (52 kB)\n",
            "\u001b[K     |████████████████████████████████| 52 kB 622 kB/s \n",
            "\u001b[?25hCollecting uvicorn[standard]>=0.12.0\n",
            "  Downloading uvicorn-0.20.0-py3-none-any.whl (56 kB)\n",
            "\u001b[K     |████████████████████████████████| 56 kB 1.4 MB/s \n",
            "\u001b[?25hCollecting httpx>=0.23.0\n",
            "  Downloading httpx-0.23.1-py3-none-any.whl (84 kB)\n",
            "\u001b[K     |████████████████████████████████| 84 kB 771 kB/s \n",
            "\u001b[?25hCollecting email-validator>=1.1.1\n",
            "  Downloading email_validator-1.3.0-py2.py3-none-any.whl (22 kB)\n",
            "Requirement already satisfied: dnspython>=1.15.0 in /usr/local/lib/python3.8/dist-packages (from email-validator>=1.1.1->fastapi[all]->lightning-cloud>=0.5.12->lightning==1.8.6->-r requirements.txt (line 1)) (2.2.1)\n",
            "Collecting rfc3986[idna2008]<2,>=1.3\n",
            "  Downloading rfc3986-1.5.0-py2.py3-none-any.whl (31 kB)\n",
            "Requirement already satisfied: certifi in /usr/local/lib/python3.8/dist-packages (from httpx>=0.23.0->fastapi[all]->lightning-cloud>=0.5.12->lightning==1.8.6->-r requirements.txt (line 1)) (2022.12.7)\n",
            "Collecting httpcore<0.17.0,>=0.15.0\n",
            "  Downloading httpcore-0.16.3-py3-none-any.whl (69 kB)\n",
            "\u001b[K     |████████████████████████████████| 69 kB 1.5 MB/s \n",
            "\u001b[?25hCollecting h11<0.15,>=0.13\n",
            "  Downloading h11-0.14.0-py3-none-any.whl (58 kB)\n",
            "\u001b[K     |████████████████████████████████| 58 kB 991 kB/s \n",
            "\u001b[?25hRequirement already satisfied: MarkupSafe>=0.23 in /usr/local/lib/python3.8/dist-packages (from jinja2>=2.11.2->fastapi[all]->lightning-cloud>=0.5.12->lightning==1.8.6->-r requirements.txt (line 1)) (2.0.1)\n",
            "Collecting python-dotenv>=0.13\n",
            "  Downloading python_dotenv-0.21.0-py3-none-any.whl (18 kB)\n",
            "Collecting websockets>=10.4\n",
            "  Downloading websockets-10.4-cp38-cp38-manylinux_2_5_x86_64.manylinux1_x86_64.manylinux_2_17_x86_64.manylinux2014_x86_64.whl (106 kB)\n",
            "\u001b[K     |████████████████████████████████| 106 kB 654 kB/s \n",
            "\u001b[?25hCollecting uvloop!=0.15.0,!=0.15.1,>=0.14.0\n",
            "  Downloading uvloop-0.17.0-cp38-cp38-manylinux_2_17_x86_64.manylinux2014_x86_64.whl (4.6 MB)\n",
            "\u001b[K     |████████████████████████████████| 4.6 MB 808 kB/s \n",
            "\u001b[?25hCollecting httptools>=0.5.0\n",
            "  Downloading httptools-0.5.0-cp38-cp38-manylinux_2_5_x86_64.manylinux1_x86_64.manylinux_2_17_x86_64.manylinux2014_x86_64.whl (427 kB)\n",
            "\u001b[K     |████████████████████████████████| 427 kB 573 kB/s \n",
            "\u001b[?25hCollecting watchfiles>=0.13\n",
            "  Downloading watchfiles-0.18.1-cp37-abi3-manylinux_2_17_x86_64.manylinux2014_x86_64.whl (1.2 MB)\n",
            "\u001b[K     |████████████████████████████████| 1.2 MB 971 kB/s \n",
            "\u001b[?25hRequirement already satisfied: chardet<4,>=3.0.2 in /usr/local/lib/python3.8/dist-packages (from requests->torchvision==0.14.0->-r requirements.txt (line 2)) (3.0.4)\n",
            "Requirement already satisfied: pygments<3.0.0,>=2.6.0 in /usr/local/lib/python3.8/dist-packages (from rich->lightning-cloud>=0.5.12->lightning==1.8.6->-r requirements.txt (line 1)) (2.6.1)\n",
            "Collecting commonmark<0.10.0,>=0.9.0\n",
            "  Downloading commonmark-0.9.1-py2.py3-none-any.whl (51 kB)\n",
            "\u001b[K     |████████████████████████████████| 51 kB 1.1 MB/s \n",
            "\u001b[?25hBuilding wheels for collected packages: python-multipart\n",
            "  Building wheel for python-multipart (setup.py) ... \u001b[?25l\u001b[?25hdone\n",
            "  Created wheel for python-multipart: filename=python_multipart-0.0.5-py3-none-any.whl size=31678 sha256=6ef0c18b9dd3d14cdbef610cec199768ef76c8e08eeb2742217b6012a453356b\n",
            "  Stored in directory: /root/.cache/pip/wheels/9e/fc/1c/cf980e6413d3ee8e70cd8f39e2366b0f487e3e221aeb452eb0\n",
            "Successfully built python-multipart\n",
            "Installing collected packages: sniffio, rfc3986, h11, anyio, websockets, watchfiles, uvloop, uvicorn, starlette, python-dotenv, httptools, httpcore, ujson, python-multipart, orjson, itsdangerous, httpx, fastapi, email-validator, commonmark, websocket-client, soupsieve, rich, readchar, python-editor, pyjwt, ordered-set, blessed, torchmetrics, tensorboardX, starsessions, lightning-utilities, lightning-cloud, inquirer, deepdiff, croniter, beautifulsoup4, arrow, lightning\n",
            "  Attempting uninstall: itsdangerous\n",
            "    Found existing installation: itsdangerous 1.1.0\n",
            "    Uninstalling itsdangerous-1.1.0:\n",
            "      Successfully uninstalled itsdangerous-1.1.0\n",
            "  Attempting uninstall: beautifulsoup4\n",
            "    Found existing installation: beautifulsoup4 4.6.3\n",
            "    Uninstalling beautifulsoup4-4.6.3:\n",
            "      Successfully uninstalled beautifulsoup4-4.6.3\n",
            "\u001b[31mERROR: pip's dependency resolver does not currently take into account all the packages that are installed. This behaviour is the source of the following dependency conflicts.\n",
            "flask 1.1.4 requires itsdangerous<2.0,>=0.24, but you have itsdangerous 2.1.2 which is incompatible.\u001b[0m\n",
            "Successfully installed anyio-3.6.2 arrow-1.2.3 beautifulsoup4-4.11.1 blessed-1.19.1 commonmark-0.9.1 croniter-1.3.8 deepdiff-6.2.2 email-validator-1.3.0 fastapi-0.88.0 h11-0.14.0 httpcore-0.16.3 httptools-0.5.0 httpx-0.23.1 inquirer-3.1.1 itsdangerous-2.1.2 lightning-1.8.6 lightning-cloud-0.5.15 lightning-utilities-0.5.0 ordered-set-4.1.0 orjson-3.8.3 pyjwt-2.6.0 python-dotenv-0.21.0 python-editor-1.0.4 python-multipart-0.0.5 readchar-4.0.3 rfc3986-1.5.0 rich-12.6.0 sniffio-1.3.0 soupsieve-2.3.2.post1 starlette-0.22.0 starsessions-1.3.0 tensorboardX-2.5.1 torchmetrics-0.11.0 ujson-5.6.0 uvicorn-0.20.0 uvloop-0.17.0 watchfiles-0.18.1 websocket-client-1.4.2 websockets-10.4\n"
          ]
        }
      ],
      "source": [
        "import sys\n",
        "\n",
        "IN_COLAB = False\n",
        "\n",
        "# if in colab, make colab setup\n",
        "if 'google.colab' in sys.modules:\n",
        "    from google.colab import drive\n",
        "    drive.mount('/content/drive')\n",
        "    IN_COLAB = True\n",
        "\n",
        "    FILENAME = \"end2end.ipynb\"\n",
        "    BRANCH = \"main\"\n",
        "    !git clone -b $BRANCH https://github.com/yannickfunk/EmbeddedMLLab tmp\n",
        "    !rm tmp/$FILENAME\n",
        "    !mv tmp/* .\n",
        "    !rm -rf tmp\n",
        "    !rm -rf sample_data\n",
        "    !pip install -r requirements.txt"
      ],
      "metadata": {
        "id": "UM2oJy-ag5H3",
        "outputId": "dc761e43-01da-4858-8e7f-ec6f202c32ff",
        "colab": {
          "base_uri": "https://localhost:8080/"
        }
      }
    },
    {
      "cell_type": "code",
      "execution_count": 2,
      "outputs": [
        {
          "output_type": "stream",
          "name": "stdout",
          "text": [
            "Using GPU: True\n"
          ]
        }
      ],
      "source": [
        "import os\n",
        "import torch\n",
        "GPU_AVAILABLE = torch.cuda.is_available()\n",
        "DATA_PATH = \"/content/drive/MyDrive/ml_data/\" if IN_COLAB else \"data/\"\n",
        "DOWNLOAD = True\n",
        "\n",
        "print(\"Using GPU:\", GPU_AVAILABLE)"
      ],
      "metadata": {
        "id": "FQ02idwWg5H5",
        "outputId": "5ebaa54f-16f0-4f48-af3f-ee82fb82b512",
        "colab": {
          "base_uri": "https://localhost:8080/"
        }
      }
    },
    {
      "cell_type": "code",
      "execution_count": null,
      "outputs": [
        {
          "metadata": {
            "tags": null
          },
          "name": "stdout",
          "output_type": "stream",
          "text": [
            "Downloading http://host.robots.ox.ac.uk/pascal/VOC/voc2012/VOCtrainval_11-May-2012.tar to /content/drive/MyDrive/ml_data/VOCtrainval_11-May-2012.tar\n"
          ]
        },
        {
          "data": {
            "application/vnd.jupyter.widget-view+json": {
              "model_id": "c4aa720891c7482ea8134974774b4f8b",
              "version_major": 2,
              "version_minor": 0
            },
            "text/plain": [
              "  0%|          | 0/1999639040 [00:00<?, ?it/s]"
            ]
          },
          "metadata": {},
          "output_type": "display_data"
        },
        {
          "metadata": {
            "tags": null
          },
          "name": "stdout",
          "output_type": "stream",
          "text": [
            "Extracting /content/drive/MyDrive/ml_data/VOCtrainval_11-May-2012.tar to /content/drive/MyDrive/ml_data/\n"
          ]
        }
      ],
      "source": [
        "from models.tinyyolov2 import TinyYoloV2Original\n",
        "from utils.dataloader import VOCDataLoaderPerson\n",
        "import lightning as pl\n",
        "\n",
        "train_loader = VOCDataLoaderPerson(train=True, batch_size=128, shuffle=True, data_path=DATA_PATH, download=DOWNLOAD)\n",
        "#val_loader = VOCDataLoaderPerson(train=False, batch_size=1, data_path=DATA_PATH, download=DOWNLOAD)\n",
        "\n",
        "model = TinyYoloV2Original(num_classes=1)\n",
        "model.load_pt_from_disk(\"data/voc_pretrained.pt\")\n",
        "trainer = pl.Trainer(max_epochs=15, accelerator='gpu' if GPU_AVAILABLE else 'cpu', log_every_n_steps=10, limit_val_batches=350)\n",
        "\n",
        "trainer.fit(model, train_dataloaders=train_loader, val_dataloaders=val_loader)"
      ],
      "metadata": {
        "id": "AUt7VD-eg5H5",
        "outputId": "b2a860b3-b313-479e-aa21-c31416602769",
        "colab": {
          "base_uri": "https://localhost:8080/",
          "height": 89,
          "referenced_widgets": [
            "c4aa720891c7482ea8134974774b4f8b"
          ]
        }
      }
    },
    {
      "cell_type": "code",
      "source": [],
      "metadata": {
        "id": "YVr_nTCy79tM"
      },
      "execution_count": null,
      "outputs": []
    }
  ],
  "metadata": {
    "kernelspec": {
      "display_name": "Python 3",
      "language": "python",
      "name": "python3"
    },
    "language_info": {
      "codemirror_mode": {
        "name": "ipython",
        "version": 2
      },
      "file_extension": ".py",
      "mimetype": "text/x-python",
      "name": "python",
      "nbconvert_exporter": "python",
      "pygments_lexer": "ipython2",
      "version": "2.7.6"
    },
    "colab": {
      "provenance": [],
      "include_colab_link": true
    },
    "accelerator": "GPU",
    "gpuClass": "standard",
    "widgets": {
      "application/vnd.jupyter.widget-state+json": {}
    }
  },
  "nbformat": 4,
  "nbformat_minor": 0
}